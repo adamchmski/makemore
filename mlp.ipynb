{
 "cells": [
  {
   "cell_type": "code",
   "execution_count": 411,
   "id": "8e498d23-1366-496c-9bad-f9aa28c606a4",
   "metadata": {},
   "outputs": [],
   "source": [
    "import torch\n",
    "import torch.nn.functional as F\n",
    "import matplotlib.pyplot as plt\n",
    "import random\n",
    "#import time \n",
    "import tqdm "
   ]
  },
  {
   "cell_type": "code",
   "execution_count": 243,
   "id": "6a15efd4-0407-4172-95b7-1f4cb403fd78",
   "metadata": {},
   "outputs": [
    {
     "name": "stdout",
     "output_type": "stream",
     "text": [
      "['emma', 'olivia', 'ava', 'isabella', 'sophia', 'charlotte', 'mia', 'amelia', 'harper', 'evelyn']\n"
     ]
    }
   ],
   "source": [
    "words = open(\"names.txt\", mode='r').read().split()\n",
    "print(words[:10])"
   ]
  },
  {
   "cell_type": "code",
   "execution_count": 244,
   "id": "c8bd1b68-0d2e-4b16-9b4b-b33b0bb1a636",
   "metadata": {},
   "outputs": [
    {
     "name": "stdout",
     "output_type": "stream",
     "text": [
      "{1: 'a', 2: 'b', 3: 'c', 4: 'd', 5: 'e', 6: 'f', 7: 'g', 8: 'h', 9: 'i', 10: 'j', 11: 'k', 12: 'l', 13: 'm', 14: 'n', 15: 'o', 16: 'p', 17: 'q', 18: 'r', 19: 's', 20: 't', 21: 'u', 22: 'v', 23: 'w', 24: 'x', 25: 'y', 26: 'z', 0: '.'}\n"
     ]
    }
   ],
   "source": [
    "# create a mapping to/from characters and integers  \n",
    "\n",
    "chars = sorted(list(set(''.join(words))))\n",
    "stoi = {s:i+1 for i, s in enumerate(chars)}\n",
    "stoi[\".\"] = 0\n",
    "itos = {i:s for s, i in stoi.items()}\n",
    "print(itos)"
   ]
  },
  {
   "cell_type": "code",
   "execution_count": 297,
   "id": "1081061d-6912-469e-88be-54a898f8d64b",
   "metadata": {},
   "outputs": [
    {
     "data": {
      "text/plain": [
       "''"
      ]
     },
     "execution_count": 297,
     "metadata": {},
     "output_type": "execute_result"
    }
   ],
   "source": [
    "# create dataset \n",
    "\n",
    "def build_dataset(words):\n",
    "    block_size = 3 \n",
    "    X, Y = [], []\n",
    "    \n",
    "    for word in words:\n",
    "        context = [0] * block_size\n",
    "        \n",
    "        for ch in word + '.':\n",
    "            X.append(context)\n",
    "            ix = stoi[ch]\n",
    "            Y.append(ix)\n",
    "            context = context[1:] + [ix]\n",
    "    \n",
    "    return torch.tensor(X), torch.tensor(Y)\n",
    "\n",
    "random.seed(99)\n",
    "random.shuffle(words)\n",
    "n1 = int(.8 * len(words))\n",
    "n2 = int(.9 * len(words)) \n",
    "\n",
    "# create dataset of tensors \n",
    "Xtrn, Ytrn = build_dataset(words[:n1])\n",
    "Xdev, Ydev = build_dataset(words[n1:n2])\n",
    "Xtst, Ytst = build_dataset(words[n2:])\n",
    "\n",
    "\n",
    "# check that the dataset is correct \n",
    "\"\"\"\n",
    "for x, y in zip(X,Y):\n",
    "    print(''.join(itos[ix] for ix in x), end=\"\")\n",
    "    print(\" predicts\", itos[y])\n",
    "\"\"\"\n",
    "\"\""
   ]
  },
  {
   "cell_type": "code",
   "execution_count": 404,
   "id": "9db83ff2-740a-405f-aaa2-a963698e428b",
   "metadata": {},
   "outputs": [],
   "source": [
    "#initialized weights and biases\n",
    "\n",
    "g = torch.Generator().manual_seed(2147483647)\n",
    "C = torch.randn((27,10), generator=g)\n",
    "W1 = torch.randn((30, 200), generator=g) * 0.1\n",
    "b1 = torch.randn((200), generator=g) * 0.1\n",
    "W2 = torch.randn((200, 27), generator=g) * 0.1\n",
    "b2 = torch.randn((27), generator=g) * 0.1\n",
    "parameters = [C, W1, b1, W2, b2]\n",
    "for p in parameters:\n",
    "    p.requires_grad = True"
   ]
  },
  {
   "cell_type": "code",
   "execution_count": 412,
   "id": "2ce40a11-3417-4174-a988-a3439f0f8b35",
   "metadata": {},
   "outputs": [
    {
     "name": "stderr",
     "output_type": "stream",
     "text": [
      "Processing: 100%|█████████████████████████████████████████| 100000/100000 [00:53<00:00, 1859.78it/s]\n"
     ]
    }
   ],
   "source": [
    "# train the neural net \n",
    "\n",
    "for _ in tqdm.tqdm(range(100000), desc=\"Processing\", ncols=100):\n",
    "\n",
    "    mini_batch_ix = torch.randint(0, Xtrn.shape[0], (32,))\n",
    "\n",
    "    # forward pass\n",
    "    emb = C[Xtrn[mini_batch_ix]]\n",
    "    h = torch.tanh(emb.view(-1,30) @ W1 + b1)\n",
    "    logits = h @ W2 + b2 \n",
    "    loss = F.cross_entropy(logits, Ytrn[mini_batch_ix])\n",
    "    #print(loss.item())\n",
    "    \n",
    "    # backward pass\n",
    "    for p in parameters:\n",
    "        p.grad = None\n",
    "    loss.backward()\n",
    "\n",
    "    # update\n",
    "    for p in parameters: \n",
    "        p.data += -0.01 * p.grad\n"
   ]
  },
  {
   "cell_type": "code",
   "execution_count": 413,
   "id": "02429d74-0e8d-4961-ae4f-09bd607e3e1a",
   "metadata": {},
   "outputs": [
    {
     "name": "stdout",
     "output_type": "stream",
     "text": [
      "2.1234569549560547\n"
     ]
    }
   ],
   "source": [
    "# check loss for dev set \n",
    "\n",
    "emb = C[Xdev]\n",
    "h = torch.tanh(emb.view(-1,30) @ W1 + b1)\n",
    "logits = h @ W2 + b2 \n",
    "loss = F.cross_entropy(logits, Ydev)\n",
    "print(loss.item())"
   ]
  },
  {
   "cell_type": "code",
   "execution_count": 454,
   "id": "f1218441-db9c-433a-8982-baf572f2dff1",
   "metadata": {},
   "outputs": [
    {
     "name": "stdout",
     "output_type": "stream",
     "text": [
      "copaspior.\n",
      "jeartyson.\n",
      "gearson.\n",
      "emmah.\n",
      "alison.\n",
      "takenza.\n",
      "isriel.\n",
      "damarlee.\n",
      "naksareedzier.\n",
      "ster.\n",
      "tovris.\n",
      "malissa.\n",
      "zamaricamilah.\n",
      "apoleth.\n",
      "brocklynn.\n",
      "tori.\n",
      "ralei.\n",
      "qukhia.\n",
      "zab.\n",
      "hai.\n"
     ]
    }
   ],
   "source": [
    "g = torch.Generator().manual_seed(2323)\n",
    "block_size = 3\n",
    "\n",
    "for _ in range(20):\n",
    "\n",
    "    context = [0] * block_size\n",
    "    out = []\n",
    "    ix = 0\n",
    "    while True:\n",
    "        emb = C[torch.tensor([context])]\n",
    "        h = torch.tanh(emb.view(1,-1) @ W1 + b1)\n",
    "        logits = h @ W2 + b2 \n",
    "        probs = F.softmax(logits, dim=1)\n",
    "        ix = torch.multinomial(probs, num_samples=1, replacement=True, generator=g).item()\n",
    "        context = context[1:] + [ix]\n",
    "        out.append(ix)\n",
    "        if ix == 0:\n",
    "            break\n",
    "    print(''.join(itos[i] for i in out))"
   ]
  }
 ],
 "metadata": {
  "kernelspec": {
   "display_name": "Python 3 (ipykernel)",
   "language": "python",
   "name": "python3"
  },
  "language_info": {
   "codemirror_mode": {
    "name": "ipython",
    "version": 3
   },
   "file_extension": ".py",
   "mimetype": "text/x-python",
   "name": "python",
   "nbconvert_exporter": "python",
   "pygments_lexer": "ipython3",
   "version": "3.9.4"
  }
 },
 "nbformat": 4,
 "nbformat_minor": 5
}
